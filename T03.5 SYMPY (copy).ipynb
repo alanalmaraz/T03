{
  "metadata": {
    "kernelspec": {
      "name": "python",
      "display_name": "Python (Pyodide)",
      "language": "python"
    },
    "language_info": {
      "codemirror_mode": {
        "name": "python",
        "version": 3
      },
      "file_extension": ".py",
      "mimetype": "text/x-python",
      "name": "python",
      "nbconvert_exporter": "python",
      "pygments_lexer": "ipython3",
      "version": "3.8"
    }
  },
  "nbformat_minor": 4,
  "nbformat": 4,
  "cells": [
    {
      "cell_type": "markdown",
      "source": "# Alan Almaraz 03/09/2024",
      "metadata": {}
    },
    {
      "cell_type": "markdown",
      "source": "## EJERCICIO 1\nEl perímetro de un triángulo isósceles es de 20 cm. Imagina que este triángulo rota centrado en su eje de simetría para formar la ilusión de un cono.\n\n¿Cuánto deben medir sus lados para que el volumen generado por la rotación sea el mayor posible?",
      "metadata": {}
    },
    {
      "cell_type": "code",
      "source": "import sympy as sp\nimport math as m\n\ndef perimetro(a, b):\n    return 2*a + b - 20\n\ndef pitagoras(a, b, h):\n    return (b/2)**2 + h**2 - a**2\n\ndef volumen(h):\n    return (1/3)*m.pi*h**2\n    \np_ = sp.solve(perimetro(a, b), b)\npt_ = pitagoras(a, b, h).subs(b, p_[0])\nh_ = sp.solve(pt_, h)[0]\nv = volumen(h).subs(h, h_)\ndv = sp.diff(v, a)\ndv",
      "metadata": {
        "trusted": true
      },
      "outputs": [
        {
          "execution_count": 75,
          "output_type": "execute_result",
          "data": {
            "text/plain": "20.9439510239320",
            "text/latex": "$\\displaystyle 20.943951023932$"
          },
          "metadata": {}
        }
      ],
      "execution_count": 75
    },
    {
      "cell_type": "markdown",
      "source": "Los lados debe de medir aproximadamente 20.94",
      "metadata": {}
    },
    {
      "cell_type": "markdown",
      "source": "",
      "metadata": {}
    },
    {
      "cell_type": "markdown",
      "source": "## EJERCICIO 2\nDisponemos de una barra de aluminio de 6 metros para construir una portería de fútbol en un parque. Es una portería simple que tendrá sólo dos postes y el travesaño:\n\n¿Si queremos que el área de la portería sea máxima, ¿cuánto deben medir los postes y el travesaño?",
      "metadata": {}
    },
    {
      "cell_type": "code",
      "source": "def restricción(x, y):\n    return 2*x + y - 6\n\ndef área(x, y):\n    return x*y\nsp.var('y')\ny_ = sp.solve(restricción(x, y), y)\na_ = área(x, y).subs(y, y_[0])\nda = sp.diff(a_, x)\npuntos_criticos = sp.solve(da, x)\npuntos_criticos",
      "metadata": {
        "trusted": true
      },
      "outputs": [
        {
          "execution_count": 97,
          "output_type": "execute_result",
          "data": {
            "text/plain": "[3/2]"
          },
          "metadata": {}
        }
      ],
      "execution_count": 97
    },
    {
      "cell_type": "markdown",
      "source": "El punto crítico está en 1.5 metros lo que significa que eso es lo que debe medir cada poste y el atravesaño por lo tanto debe medir 3 metros",
      "metadata": {}
    },
    {
      "cell_type": "markdown",
      "source": "## EJERCICIO  3",
      "metadata": {}
    },
    {
      "cell_type": "code",
      "source": "def restricción(w, h):\n    return w**2 + h**2 - 24**2\n\ndef resistencia(w, h, k):\n    return k*w*(h**2)\n\nsp.var('w')\nsp.var('k')\nh2 = sp.solve(restricción(w, h), h**2)[0]\nr = resistencia(w, h, k).subs(h**2, h2)\ndr = sp.diff(r, w)\npc = sp.solve(dr, w)[1]\npc",
      "metadata": {
        "trusted": true
      },
      "outputs": [
        {
          "execution_count": 114,
          "output_type": "execute_result",
          "data": {
            "text/plain": "8*sqrt(3)",
            "text/latex": "$\\displaystyle 8 \\sqrt{3}$"
          },
          "metadata": {}
        }
      ],
      "execution_count": 114
    },
    {
      "cell_type": "markdown",
      "source": "Al momento de sacar punto crítico nos dio $$ 8\\sqrt3 $$ por lo que en este se obtiene la máxima resistencia posible",
      "metadata": {}
    },
    {
      "cell_type": "markdown",
      "source": "## Ejercicio 4",
      "metadata": {}
    },
    {
      "cell_type": "code",
      "source": "import sympy as sp\ndef I(a, s):\n    return (k*sp.sin(a))/(s**2)\ndef pitagoras(s, h):\n    return h**2 + 4 - s**2\n\nsp.var('s')\ns2 = sp.solve(pitagoras(s, h), s**2)[0]\nI_ = I(a,s).subs(s**2, s2)\nsp.solve(pitagoras(s, h), h)[0]\nI_",
      "metadata": {
        "trusted": true
      },
      "outputs": [
        {
          "execution_count": 134,
          "output_type": "execute_result",
          "data": {
            "text/plain": "k*sin(a)/(h**2 + 4)",
            "text/latex": "$\\displaystyle \\frac{k \\sin{\\left(a \\right)}}{h^{2} + 4}$"
          },
          "metadata": {}
        }
      ],
      "execution_count": 134
    },
    {
      "cell_type": "code",
      "source": "import sympy as sp\ndef I(a, s):\n    return (k*sp.sin(a))/(s**2)\ndef pitagoras(s, h):\n    return h**2 + 4 - s**2\n\nsp.var('s')\ns_a = h / s\nI_ = I(a,s).subs(sp.sin(a), s_a)\ns2 = sp.solve(pitagoras(s, h), s**2)[0]\nI_2 = I_.subs(s, s2**0.5)\ndi = sp.diff(I_2, h)\npc = sp.solve(di, h)[1]\npc\n\n",
      "metadata": {
        "trusted": true
      },
      "outputs": [
        {
          "execution_count": 180,
          "output_type": "execute_result",
          "data": {
            "text/plain": "1.41421356237310",
            "text/latex": "$\\displaystyle 1.4142135623731$"
          },
          "metadata": {}
        }
      ],
      "execution_count": 180
    },
    {
      "cell_type": "markdown",
      "source": "La altura máxima para que la iluminación sea la máxima sería 1.41",
      "metadata": {}
    },
    {
      "cell_type": "markdown",
      "source": "## EJERCICIO  5",
      "metadata": {}
    },
    {
      "cell_type": "code",
      "source": "def dirección_v(n, w, Fy):\n    return n - w - Fy\n\ndef dirección_h(Fx, f):\n    return f - Fx\n\n\n",
      "metadata": {
        "trusted": true
      },
      "outputs": [],
      "execution_count": null
    }
  ]
}